import pandas as pd
import ipywidgets as widgets
from IPython.display import display

def read_selected_values_from_excel(excel_file_path, column_name):
    df = pd.read_excel(excel_file_path)
    return df[column_name].tolist()

def display_unique_values(csv_file, column_name, selected_values, output_file):
    try:
        df = pd.read_excel(csv_file)
        selected_data = df[df[column_name].isin(selected_values)]
        unique_values = selected_data[column_name].unique()
        print(f"Unique values in the '{column_name}' column for selected values:")
        print(unique_values)
        selected_data.to_excel(output_file, index=False)

    except Exception as e:
        print(f"Error: {e}")

csv_file_path = r'C:\Users\shreyan\Downloads\csv\csv_csv_csv_csv_owid-co2-data.xlsx'
column_name_to_check = 'country'
output_excel_file = r'C:\Users\shreyan\Downloads\csv\yes.xlsx'
excel_file_path = r'C:\Users\shreyan\Downloads\sheet3.xlsx'
excel_column_name = 'Filter'  # Replace 'Filter' with the actual column name from which you want to read selected values

# Create widgets for user input
csv_file_widget = widgets.Text(value=csv_file_path, description='Excel File Path:')
column_name_widget = widgets.Text(value=column_name_to_check, description='Column Name:')
output_excel_file_widget = widgets.Text(value=output_excel_file, description='Output Excel File Path:')
excel_file_widget = widgets.Text(value=excel_file_path, description='Filter Excel File Path:')
display(widgets.VBox([csv_file_widget, column_name_widget, output_excel_file_widget, excel_file_widget]))

def on_button_click(b):
    csv_file_path = csv_file_widget.value
    column_name_to_check = column_name_widget.value
    output_excel_file = output_excel_file_widget.value
    excel_file_path = excel_file_widget.value  # Get the input for the Filter Excel file path

    selected_values = read_selected_values_from_excel(excel_file_path, excel_column_name)

    display_unique_values(csv_file_path, column_name_to_check, selected_values, output_excel_file)

# Create a button for the user to trigger the action
button = widgets.Button(description="Run")
button.on_click(on_button_click)
display(button)
